{
 "cells": [
  {
   "cell_type": "markdown",
   "metadata": {},
   "source": [
    "# HW4 : A visit to the movie zoo!\n",
    "\n",
    "![](https://vignette.wikia.nocookie.net/bojackhorseman/images/f/f2/HSACWDTK%3FDTKT%3FLFO%21%21.png/revision/latest?cb=20150720050503)"
   ]
  },
  {
   "cell_type": "markdown",
   "metadata": {},
   "source": [
    "## Task\n",
    "In this homework, your task is to visualize THREE non-typical charts on anything related to your favorite **movie star!**\n",
    "This means you CANNOT use the Big 4 chart types or their close variants (i.e. Pie, Bar, Line and Scatter, Area, etc.)\n",
    "\n",
    "You are free to use any other chart type whether or not they were covered in class!\n",
    "The lecture on Visit To The Zoo is a good place to start to get ideas on what kinds of charts exist.\n",
    "\n",
    "For the data, you are free to use any data source you deem fit.\n",
    "For charting, we will NOT be constraining the technology you use. \n",
    "You are free to produce the charts in any way you would like.\n",
    "\n",
    "You will be judged on\n",
    "* Creativity\n",
    "* Presentation Quality\n",
    "* Data Quality (Did your visualization reveal something interesting?)\n",
    "\n",
    "For extra credit, you can make a fully interactive visualization."
   ]
  },
  {
   "cell_type": "markdown",
   "metadata": {},
   "source": [
    "## Ideas for Data Collection\n",
    "\n",
    "Here, we show an example of how to collect data about Arnold Schwarzenegger!\n",
    "Do note that this is just an example of the kind of data you can collect.\n",
    "You are **NOT** constrained\n",
    "* To the same movie star (you can pick your own!)\n",
    "* To the same *kind* of data\n",
    "* To the same data sources\n",
    "* or to anything else!\n",
    "\n",
    "This assignment gives you the power to do what you like!"
   ]
  },
  {
   "cell_type": "code",
   "execution_count": 1,
   "metadata": {},
   "outputs": [],
   "source": [
    "from imdbpie import ImdbFacade\n",
    "from IPython.core.display import display, HTML\n",
    "from bs4 import BeautifulSoup\n",
    "import urllib.request\n",
    "import re"
   ]
  },
  {
   "cell_type": "markdown",
   "metadata": {},
   "source": [
    "#### Get data for Arnold Schwarzenegger"
   ]
  },
  {
   "cell_type": "code",
   "execution_count": 5,
   "metadata": {},
   "outputs": [
    {
     "name": "stdout",
     "output_type": "stream",
     "text": [
      "(NameSearchResult(imdb_id='nm0000216', name='Arnold Schwarzenegger'), NameSearchResult(imdb_id='nm2200639', name='Patrick Schwarzenegger'), NameSearchResult(imdb_id='nm0004569', name='Sanjay Dutt'))\n"
     ]
    }
   ],
   "source": [
    "# Get an instance of IMDb class\n",
    "imdb = ImdbFacade()\n",
    "\n",
    "# Search for Arnold Schwarzenegger\n",
    "people = imdb.search_for_name('Arnold Schwarzenegger')\n",
    "print(people)"
   ]
  },
  {
   "cell_type": "code",
   "execution_count": 6,
   "metadata": {},
   "outputs": [
    {
     "name": "stdout",
     "output_type": "stream",
     "text": [
      "bios\n",
      "birth_place\n",
      "date_of_birth\n",
      "filmography\n",
      "gender\n",
      "image\n",
      "imdb_id\n",
      "name\n"
     ]
    }
   ],
   "source": [
    "# Fetch information about him\n",
    "arnold = imdb.get_name(people[0].imdb_id)\n",
    "\n",
    "# What information do I have about him?\n",
    "print('\\n'.join([x for x in dir(arnold) if not x.startswith('__')]))"
   ]
  },
  {
   "cell_type": "code",
   "execution_count": 7,
   "metadata": {},
   "outputs": [
    {
     "name": "stdout",
     "output_type": "stream",
     "text": [
      "710\n"
     ]
    }
   ],
   "source": [
    "# How many movies does he have?\n",
    "print(len(arnold.filmography))"
   ]
  },
  {
   "cell_type": "code",
   "execution_count": 8,
   "metadata": {},
   "outputs": [],
   "source": [
    "# Let's fetch some more information about a movie\n",
    "movie = imdb.get_title(arnold.filmography[-1])"
   ]
  },
  {
   "cell_type": "code",
   "execution_count": 9,
   "metadata": {},
   "outputs": [
    {
     "name": "stdout",
     "output_type": "stream",
     "text": [
      "certification\n",
      "creators\n",
      "credits\n",
      "directors\n",
      "episode\n",
      "episodes\n",
      "genres\n",
      "image\n",
      "imdb_id\n",
      "plot_outline\n",
      "rating\n",
      "rating_count\n",
      "release_date\n",
      "releases\n",
      "runtime\n",
      "season\n",
      "stars\n",
      "title\n",
      "type\n",
      "writers\n",
      "year\n"
     ]
    }
   ],
   "source": [
    "# What information can I get about this movie?\n",
    "print('\\n'.join([x for x in dir(movie) if not x.startswith('__')]))"
   ]
  },
  {
   "cell_type": "code",
   "execution_count": 115,
   "metadata": {},
   "outputs": [
    {
     "name": "stdout",
     "output_type": "stream",
     "text": [
      "tt0096708\n"
     ]
    }
   ],
   "source": [
    "print(movie.imdb_id)"
   ]
  },
  {
   "cell_type": "code",
   "execution_count": 116,
   "metadata": {},
   "outputs": [
    {
     "data": {
      "text/html": [
       "\n",
       "    <div style=\"background-color:#FFDDDD\">\n",
       "    <h2> Warning! </h2>\n",
       "    <p> This code below is meant to be an example of what you can do. <br>\n",
       "        It is not guaranteed to work always, and will need to be tweaked!\n",
       "    </p>\n",
       "    </div>\n"
      ],
      "text/plain": [
       "<IPython.core.display.HTML object>"
      ]
     },
     "metadata": {},
     "output_type": "display_data"
    }
   ],
   "source": [
    "html = \"\"\"\n",
    "    <div style=\"background-color:#FFDDDD\">\n",
    "    <h2> Warning! </h2>\n",
    "    <p> This code below is meant to be an example of what you can do. <br>\n",
    "        It is not guaranteed to work always, and will need to be tweaked!\n",
    "    </p>\n",
    "    </div>\n",
    "\"\"\"\n",
    "display(HTML(html))"
   ]
  },
  {
   "cell_type": "markdown",
   "metadata": {},
   "source": [
    "#### Box office numbers"
   ]
  },
  {
   "cell_type": "code",
   "execution_count": 117,
   "metadata": {},
   "outputs": [
    {
     "name": "stdout",
     "output_type": "stream",
     "text": [
      "Total Domestic Earnings: $38,371,200\n",
      "Total International Earnings: $40,000,000\n",
      "Weekly Domestic Earnings:\n",
      "\tOct 26-Nov 1 \t: $5,560,930\n",
      "\tNov 2-8 \t: $5,752,018\n",
      "\tNov 9-15 \t: $4,764,277\n",
      "\tNov 16-22 \t: $5,208,881\n",
      "\tNov 23-29 \t: $4,851,910\n",
      "\tNov 30-Dec 6 \t: $3,741,759\n",
      "\tDec 7-13 \t: $2,002,925\n",
      "\tDec 14-20 \t: $1,399,646\n",
      "\tDec 21-27 \t: $722,260\n",
      "\tJan 11-17 \t: $752,723\n",
      "\tJan 18-24 \t: $618,670\n"
     ]
    }
   ],
   "source": [
    "# Let's experiment with Terminator\n",
    "imdb_id = 'tt0088247'\n",
    "\n",
    "# Fetch the box office numbers\n",
    "base = 'https://www.boxofficemojo.com'\n",
    "url = base + '/title/' + imdb_id\n",
    "source = urllib.request.urlopen(url).read()\n",
    "soup = BeautifulSoup(source,'lxml')\n",
    "\n",
    "table = soup('th', text=re.compile(r'Release Group'))[0].parent.parent\n",
    "group = table.findAll('tr', recursive=False)[1].find('a').get('href')\n",
    "url = base + group\n",
    "\n",
    "# Get total earnings domestic and international\n",
    "source = urllib.request.urlopen(url).read()\n",
    "soup = BeautifulSoup(source,'lxml')\n",
    "earnings = soup('h2', text=re.compile(r'Rollout'))[0].parent.parent.findAll('div')\n",
    "domestic = earnings[1].find('span', {'class': 'money'}).get_text()\n",
    "domestic_url = earnings[1].find('a').get('href')\n",
    "international = earnings[2].find('span', {'class': 'money'}).get_text()\n",
    "\n",
    "# Get weekly domestic earnings\n",
    "url = base + domestic_url\n",
    "url = url[:url.rfind('/')] + '/weekly/'\n",
    "source = urllib.request.urlopen(url).read()\n",
    "soup = BeautifulSoup(source,'lxml')\n",
    "table = soup.find('div', {'class':'a-section imdb-scroll-table-inner'}).findAll('tr')\n",
    "weekly = []\n",
    "for tr in table[1:]:\n",
    "    date = tr.findAll('td')[0].get_text()\n",
    "    earning = tr.findAll('td')[2].get_text()\n",
    "    weekly.append((date, earning))\n",
    "\n",
    "# Print the values we've just got!\n",
    "print(\"Total Domestic Earnings: %s\" % domestic)\n",
    "print(\"Total International Earnings: %s\" % international)\n",
    "print(\"Weekly Domestic Earnings:\")\n",
    "for date, earning in weekly:\n",
    "    print(\"\\t%s \\t: %s\" % (date, earning))"
   ]
  },
  {
   "cell_type": "code",
   "execution_count": null,
   "metadata": {},
   "outputs": [],
   "source": []
  },
  {
   "cell_type": "code",
   "execution_count": 14,
   "metadata": {},
   "outputs": [
    {
     "name": "stdout",
     "output_type": "stream",
     "text": [
      "(NameSearchResult(imdb_id='nm0000206', name='Keanu Reeves'), NameSearchResult(imdb_id='nm2172419', name='Keanna Reeves'), NameSearchResult(imdb_id='nm4474752', name='Keane Reeves'), NameSearchResult(imdb_id='nm2023349', name='François Brun'))\n"
     ]
    }
   ],
   "source": [
    "# Get an instance of IMDb class\n",
    "imdb = ImdbFacade()\n",
    "\n",
    "# Search for Arnold Schwarzenegger\n",
    "people = imdb.search_for_name('Keanu Reeves')\n",
    "print(people)"
   ]
  },
  {
   "cell_type": "code",
   "execution_count": 15,
   "metadata": {},
   "outputs": [
    {
     "name": "stdout",
     "output_type": "stream",
     "text": [
      "bios\n",
      "birth_place\n",
      "date_of_birth\n",
      "filmography\n",
      "gender\n",
      "image\n",
      "imdb_id\n",
      "name\n"
     ]
    }
   ],
   "source": [
    "# Fetch information about him\n",
    "keanu = imdb.get_name(people[0].imdb_id)\n",
    "\n",
    "# What information do I have about him?\n",
    "print('\\n'.join([x for x in dir(bruce) if not x.startswith('__')]))"
   ]
  },
  {
   "cell_type": "code",
   "execution_count": 16,
   "metadata": {},
   "outputs": [
    {
     "name": "stdout",
     "output_type": "stream",
     "text": [
      "381\n"
     ]
    }
   ],
   "source": [
    "# How many movies does he have?\n",
    "print(len(keanu.filmography))"
   ]
  },
  {
   "cell_type": "code",
   "execution_count": 47,
   "metadata": {},
   "outputs": [
    {
     "data": {
      "text/plain": [
       "('tt5040126',\n",
       " 'tt1083818',\n",
       " 'tt1036620',\n",
       " 'tt4823776',\n",
       " 'tt1086064',\n",
       " 'tt3810192',\n",
       " 'tt9398640',\n",
       " 'tt1979376',\n",
       " 'tt7374948',\n",
       " 'tt6146586',\n",
       " 'tt4154916',\n",
       " 'tt6987770',\n",
       " 'tt6494418',\n",
       " 'tt5324116',\n",
       " 'tt7296862',\n",
       " 'tt5228262',\n",
       " 'tt8138184',\n",
       " 'tt4425200',\n",
       " 'tt5541240',\n",
       " 'tt6358260',\n",
       " 'tt4334266',\n",
       " 'tt1974419',\n",
       " 'tt3503406',\n",
       " 'tt4139124',\n",
       " 'tt5376424',\n",
       " 'tt4019560',\n",
       " 'tt3546436',\n",
       " 'tt3605418',\n",
       " 'tt2911666',\n",
       " 'tt9130252',\n",
       " 'tt1335975',\n",
       " 'tt2016940',\n",
       " 'tt1718158',\n",
       " 'tt1220888',\n",
       " 'tt1300926',\n",
       " 'tt1134629',\n",
       " 'tt0970416',\n",
       " 'tt0421073',\n",
       " 'tt0410297',\n",
       " 'tt0405296',\n",
       " 'tt2092429',\n",
       " 'tt0360486',\n",
       " 'tt0318761',\n",
       " 'tt0436262',\n",
       " 'tt0337741',\n",
       " 'tt0242653',\n",
       " 'tt0368574',\n",
       " 'tt0277828',\n",
       " 'tt0234215',\n",
       " 'tt0328832',\n",
       " 'tt0180734',\n",
       " 'tt0230838',\n",
       " 'tt0219699',\n",
       " 'tt0204626',\n",
       " 'tt0191397',\n",
       " 'tt0160518',\n",
       " 'tt0206467',\n",
       " 'tt0133093',\n",
       " 'tt0118971',\n",
       " 'tt0119502',\n",
       " 'tt0116289',\n",
       " 'tt0115857',\n",
       " 'tt0114887',\n",
       " 'tt0113481',\n",
       " 'tt0111257',\n",
       " 'tt0107426',\n",
       " 'tt0106834',\n",
       " 'tt0107616',\n",
       " 'tt0109838',\n",
       " 'tt0103874',\n",
       " 'tt3267018',\n",
       " 'tt0175080',\n",
       " 'tt0102494',\n",
       " 'tt0101452',\n",
       " 'tt0102685',\n",
       " 'tt0098752',\n",
       " 'tt0100822',\n",
       " 'tt0099819',\n",
       " 'tt0092469',\n",
       " 'tt0098067',\n",
       " 'tt0176357',\n",
       " 'tt0096928',\n",
       " 'tt0094947',\n",
       " 'tt0095903',\n",
       " 'tt0095853',\n",
       " 'tt0095730',\n",
       " 'tt1085468',\n",
       " 'tt1085063',\n",
       " 'tt0190206',\n",
       " 'tt1085449',\n",
       " 'tt0090683',\n",
       " 'tt0092134',\n",
       " 'tt0091860',\n",
       " 'tt0090775',\n",
       " 'tt0091065',\n",
       " 'tt0046593',\n",
       " 'tt0090588',\n",
       " 'tt0092272',\n",
       " 'tt0223844',\n",
       " 'tt0341142',\n",
       " 'tt0089480',\n",
       " 'tt0088582',\n",
       " 'tt1085457',\n",
       " 'tt0335674',\n",
       " 'tt8084622',\n",
       " 'tt3969420',\n",
       " 'tt0081857',\n",
       " 'tt0247094',\n",
       " 'tt0167515',\n",
       " 'tt3503424',\n",
       " 'tt1029508',\n",
       " 'tt7808628',\n",
       " 'tt2071236',\n",
       " 'tt0430836',\n",
       " 'tt6648500',\n",
       " 'tt0924651',\n",
       " 'tt4416750',\n",
       " 'tt4823212',\n",
       " 'tt2637554',\n",
       " 'tt5925008',\n",
       " 'tt1635327',\n",
       " 'tt0315727',\n",
       " 'tt2241422',\n",
       " 'tt1002838',\n",
       " 'tt2891956',\n",
       " 'tt1749539',\n",
       " 'tt5701776',\n",
       " 'tt3663764',\n",
       " 'tt0178131',\n",
       " 'tt1675286',\n",
       " 'tt1266033',\n",
       " 'tt0383126',\n",
       " 'tt1147571',\n",
       " 'tt1066444',\n",
       " 'tt0949771',\n",
       " 'tt0969243',\n",
       " 'tt0958221',\n",
       " 'tt0800968',\n",
       " 'tt0341708',\n",
       " 'tt0451579',\n",
       " 'tt0451118',\n",
       " 'tt0463397',\n",
       " 'tt0470644',\n",
       " 'tt0960804',\n",
       " 'tt0092322',\n",
       " 'tt0474989',\n",
       " 'tt0415467',\n",
       " 'tt0402720',\n",
       " 'tt0403738',\n",
       " 'tt0809516',\n",
       " 'tt0892644',\n",
       " 'tt0463399',\n",
       " 'tt0283739',\n",
       " 'tt0320996',\n",
       " 'tt0118267',\n",
       " 'tt1095411',\n",
       " 'tt0081857',\n",
       " 'tt1172112',\n",
       " 'tt1401534',\n",
       " 'tt0167515',\n",
       " 'tt8638066',\n",
       " 'tt0072506',\n",
       " 'tt5611414',\n",
       " 'tt1058425',\n",
       " 'tt9793886',\n",
       " 'tt0379623',\n",
       " 'tt1973047',\n",
       " 'tt5139360',\n",
       " 'tt8005764',\n",
       " 'tt3697842',\n",
       " 'tt0096636',\n",
       " 'tt0924651',\n",
       " 'tt1027537',\n",
       " 'tt0911896',\n",
       " 'tt3503424',\n",
       " 'tt1740718',\n",
       " 'tt9506206',\n",
       " 'tt8855852',\n",
       " 'tt0044298',\n",
       " 'tt4280606',\n",
       " 'tt0247094',\n",
       " 'tt8344332',\n",
       " 'tt0430836',\n",
       " 'tt3444938',\n",
       " 'tt7161942',\n",
       " 'tt7161936',\n",
       " 'tt7161918',\n",
       " 'tt7161906',\n",
       " 'tt7161902',\n",
       " 'tt7161894',\n",
       " 'tt7161880',\n",
       " 'tt7161870',\n",
       " 'tt7161856',\n",
       " 'tt7161846',\n",
       " 'tt7042218',\n",
       " 'tt2071236',\n",
       " 'tt8883520',\n",
       " 'tt6561592',\n",
       " 'tt4007694',\n",
       " 'tt5994354',\n",
       " 'tt5310930',\n",
       " 'tt4944090',\n",
       " 'tt0320037',\n",
       " 'tt4000670',\n",
       " 'tt0165001',\n",
       " 'tt2049323',\n",
       " 'tt3312868',\n",
       " 'tt3657420',\n",
       " 'tt4262222',\n",
       " 'tt2787918',\n",
       " 'tt4062632',\n",
       " 'tt4062624',\n",
       " 'tt4062618',\n",
       " 'tt4062616',\n",
       " 'tt3954450',\n",
       " 'tt3858872',\n",
       " 'tt0426701',\n",
       " 'tt3410698',\n",
       " 'tt1612376',\n",
       " 'tt0458254',\n",
       " 'tt0305109',\n",
       " 'tt2960910',\n",
       " 'tt3363898',\n",
       " 'tt0403813',\n",
       " 'tt1300926',\n",
       " 'tt0437729',\n",
       " 'tt1542485',\n",
       " 'tt2014338',\n",
       " 'tt1231460',\n",
       " 'tt0262152',\n",
       " 'tt0844203',\n",
       " 'tt1695352',\n",
       " 'tt2132638',\n",
       " 'tt1409772',\n",
       " 'tt2779198',\n",
       " 'tt1541775',\n",
       " 'tt1269776',\n",
       " 'tt2779202',\n",
       " 'tt5242058',\n",
       " 'tt5242026',\n",
       " 'tt0445135',\n",
       " 'tt1343082',\n",
       " 'tt0111920',\n",
       " 'tt0390699',\n",
       " 'tt1434322',\n",
       " 'tt0106053',\n",
       " 'tt0429403',\n",
       " 'tt1356516',\n",
       " 'tt0488067',\n",
       " 'tt1269602',\n",
       " 'tt0463399',\n",
       " 'tt0103569',\n",
       " 'tt0318220',\n",
       " 'tt0892040',\n",
       " 'tt1185273',\n",
       " 'tt1182617',\n",
       " 'tt5358690',\n",
       " 'tt0850343',\n",
       " 'tt0207934',\n",
       " 'tt0299374',\n",
       " 'tt0790596',\n",
       " 'tt0497318',\n",
       " 'tt0904079',\n",
       " 'tt0315677',\n",
       " 'tt0770712',\n",
       " 'tt0364808',\n",
       " 'tt0463397',\n",
       " 'tt0475467',\n",
       " 'tt0459622',\n",
       " 'tt0192897',\n",
       " 'tt0386910',\n",
       " 'tt0446754',\n",
       " 'tt0241090',\n",
       " 'tt0413616',\n",
       " 'tt1830850',\n",
       " 'tt1313051',\n",
       " 'tt5325422',\n",
       " 'tt5320164',\n",
       " 'tt5320126',\n",
       " 'tt0439486',\n",
       " 'tt4665052',\n",
       " 'tt0435592',\n",
       " 'tt5325366',\n",
       " 'tt5323558',\n",
       " 'tt0410519',\n",
       " 'tt0344718',\n",
       " 'tt0395093',\n",
       " 'tt1029286',\n",
       " 'tt5700280',\n",
       " 'tt5700150',\n",
       " 'tt5700122',\n",
       " 'tt0360301',\n",
       " 'tt0261489',\n",
       " 'tt0376434',\n",
       " 'tt0112056',\n",
       " 'tt5319610',\n",
       " 'tt5319604',\n",
       " 'tt0388175',\n",
       " 'tt0230512',\n",
       " 'tt0364913',\n",
       " 'tt0380929',\n",
       " 'tt0369030',\n",
       " 'tt0278859',\n",
       " 'tt1074193',\n",
       " 'tt0352053',\n",
       " 'tt0123366',\n",
       " 'tt0355143',\n",
       " 'tt0270116',\n",
       " 'tt0346468',\n",
       " 'tt0167735',\n",
       " 'tt0349568',\n",
       " 'tt5455548',\n",
       " 'tt1198067',\n",
       " 'tt0340474',\n",
       " 'tt0459558',\n",
       " 'tt0360599',\n",
       " 'tt5319444',\n",
       " 'tt6758554',\n",
       " 'tt0295432',\n",
       " 'tt0115338',\n",
       " 'tt1401892',\n",
       " 'tt1151365',\n",
       " 'tt0278884',\n",
       " 'tt0343328',\n",
       " 'tt0266222',\n",
       " 'tt5319308',\n",
       " 'tt0365467',\n",
       " 'tt1453928',\n",
       " 'tt0373506',\n",
       " 'tt0483221',\n",
       " 'tt0266212',\n",
       " 'tt0438231',\n",
       " 'tt0773260',\n",
       " 'tt0159879',\n",
       " 'tt1524291',\n",
       " 'tt0824760',\n",
       " 'tt0985040',\n",
       " 'tt0275880',\n",
       " 'tt1677635',\n",
       " 'tt0268875',\n",
       " 'tt0338225',\n",
       " 'tt0796267',\n",
       " 'tt0088598',\n",
       " 'tt0169515',\n",
       " 'tt0304362',\n",
       " 'tt0275879',\n",
       " 'tt0770721',\n",
       " 'tt0275878',\n",
       " 'tt0276840',\n",
       " 'tt0303753',\n",
       " 'tt3810192',\n",
       " 'tt7181546',\n",
       " 'tt1740132',\n",
       " 'tt4486578',\n",
       " 'tt6486762',\n",
       " 'tt6091054',\n",
       " 'tt7089628',\n",
       " 'tt4154916',\n",
       " 'tt6494418',\n",
       " 'tt5994354',\n",
       " 'tt4019560',\n",
       " 'tt3605418',\n",
       " 'tt4062632',\n",
       " 'tt4062624',\n",
       " 'tt4062618',\n",
       " 'tt4062616',\n",
       " 'tt3954450',\n",
       " 'tt2014338',\n",
       " 'tt1220888',\n",
       " 'tt4030704',\n",
       " 'tt3969420',\n",
       " 'tt8883520',\n",
       " 'tt1504508',\n",
       " 'tt0335266',\n",
       " 'tt0295432',\n",
       " 'tt2016940',\n",
       " 'tt0230838',\n",
       " 'tt0160518',\n",
       " 'tt0101452',\n",
       " 'tt0098752',\n",
       " 'tt0090683')"
      ]
     },
     "execution_count": 47,
     "metadata": {},
     "output_type": "execute_result"
    }
   ],
   "source": [
    "keanu.filmography"
   ]
  },
  {
   "cell_type": "code",
   "execution_count": 45,
   "metadata": {},
   "outputs": [],
   "source": [
    "# Let's fetch some more information about a movie\n",
    "movie = imdb.get_title(keanu.filmography[0])"
   ]
  },
  {
   "cell_type": "code",
   "execution_count": 46,
   "metadata": {
    "scrolled": true
   },
   "outputs": [
    {
     "data": {
      "text/plain": [
       "Title(imdb_id='tt5040126', title='Rally Car', type='movie', certification=None, year=None, genres=('action',), writers=(TitleName(name='Stephen Hamel', category='writer', imdb_id='nm1336500', job='story', characters=()), TitleName(name='Jeremy Lott', category='writer', imdb_id='nm3134774', job='screenplay', characters=())), creators=(), credits=(TitleName(name='Olivier Megaton', category='director', imdb_id='nm0576298', job=None, characters=()), TitleName(name='Keanu Reeves', category='actor', imdb_id='nm0000206', job=None, characters=()), TitleName(name='Mark Gao', category='producer', imdb_id='nm3640199', job='Producer', characters=()), TitleName(name='Gary Glushon', category='producer', imdb_id='nm2237223', job='Executive Producer', characters=()), TitleName(name='Stephen Hamel', category='producer', imdb_id='nm1336500', job='producer', characters=()), TitleName(name='Gregory Ouanhon', category='producer', imdb_id='nm4130047', job='producer', characters=()), TitleName(name='Stephen Hamel', category='writer', imdb_id='nm1336500', job='story', characters=()), TitleName(name='Jeremy Lott', category='writer', imdb_id='nm3134774', job='screenplay', characters=())), directors=(TitleName(name='Olivier Megaton', category='director', imdb_id='nm0576298', job=None, characters=()),), stars=(TitleName(name='Keanu Reeves', category='actor', imdb_id='nm0000206', job=None, characters=()),), image=Image(url='https://m.media-amazon.com/images/M/MV5BZGY0Yjc5ZGMtZTg0OS00NjE3LTljZWItNzM1N2RkZDU4ZjZjL2ltYWdlL2ltYWdlXkEyXkFqcGdeQXVyNTAyODkwOQ@@._V1_.jpg', width=707, height=471), episodes=(), rating_count=0, releases=(), season=None, episode=None, rating=None, plot_outline='Rally car race in China.', release_date=None, runtime=None)"
      ]
     },
     "execution_count": 46,
     "metadata": {},
     "output_type": "execute_result"
    }
   ],
   "source": [
    "movie"
   ]
  },
  {
   "cell_type": "code",
   "execution_count": 35,
   "metadata": {},
   "outputs": [
    {
     "name": "stdout",
     "output_type": "stream",
     "text": [
      "certification\n",
      "creators\n",
      "credits\n",
      "directors\n",
      "episode\n",
      "episodes\n",
      "genres\n",
      "image\n",
      "imdb_id\n",
      "plot_outline\n",
      "rating\n",
      "rating_count\n",
      "release_date\n",
      "releases\n",
      "runtime\n",
      "season\n",
      "stars\n",
      "title\n",
      "type\n",
      "writers\n",
      "year\n"
     ]
    }
   ],
   "source": [
    "# What information can I get about this movie?\n",
    "print('\\n'.join([x for x in dir(movie) if not x.startswith('__')]))"
   ]
  },
  {
   "cell_type": "code",
   "execution_count": 44,
   "metadata": {},
   "outputs": [
    {
     "data": {
      "text/plain": [
       "(TitleName(name='Jack Lemmon', category='self', imdb_id='nm0000493', job=None, characters=('Himself - Guest',)),)"
      ]
     },
     "execution_count": 44,
     "metadata": {},
     "output_type": "execute_result"
    }
   ],
   "source": [
    "movie.stars"
   ]
  },
  {
   "cell_type": "code",
   "execution_count": 21,
   "metadata": {},
   "outputs": [
    {
     "data": {
      "text/html": [
       "\n",
       "    <div style=\"background-color:#FFDDDD\">\n",
       "    <h2> Warning! </h2>\n",
       "    <p> This code below is meant to be an example of what you can do. <br>\n",
       "        It is not guaranteed to work always, and will need to be tweaked!\n",
       "    </p>\n",
       "    </div>\n"
      ],
      "text/plain": [
       "<IPython.core.display.HTML object>"
      ]
     },
     "metadata": {},
     "output_type": "display_data"
    }
   ],
   "source": [
    "html = \"\"\"\n",
    "    <div style=\"background-color:#FFDDDD\">\n",
    "    <h2> Warning! </h2>\n",
    "    <p> This code below is meant to be an example of what you can do. <br>\n",
    "        It is not guaranteed to work always, and will need to be tweaked!\n",
    "    </p>\n",
    "    </div>\n",
    "\"\"\"\n",
    "display(HTML(html))"
   ]
  },
  {
   "cell_type": "markdown",
   "metadata": {},
   "source": [
    "#### Box office numbers"
   ]
  },
  {
   "cell_type": "code",
   "execution_count": 29,
   "metadata": {},
   "outputs": [
    {
     "data": {
      "text/plain": [
       "'https://www.boxofficemojo.com/title/tt1083818'"
      ]
     },
     "execution_count": 29,
     "metadata": {},
     "output_type": "execute_result"
    }
   ],
   "source": [
    "url"
   ]
  },
  {
   "cell_type": "code",
   "execution_count": 30,
   "metadata": {},
   "outputs": [
    {
     "name": "stdout",
     "output_type": "stream",
     "text": [
      "Total Domestic Earnings: $171,479,930\n",
      "Total International Earnings: $292,037,453\n",
      "Weekly Domestic Earnings:\n",
      "\tMar 26-Apr 1 \t: $9,564,361\n",
      "\tApr 2-8 \t: $41,182,725\n",
      "\tApr 9-15 \t: $30,258,442\n",
      "\tApr 16-22 \t: $23,434,747\n",
      "\tApr 23-29 \t: $16,558,874\n",
      "\tApr 30-May 6 \t: $11,624,679\n",
      "\tMay 7-13 \t: $7,966,209\n",
      "\tMay 14-20 \t: $6,041,952\n",
      "\tMay 21-27 \t: $4,302,561\n",
      "\tMay 28-Jun 3 \t: $4,872,553\n",
      "\tJun 4-10 \t: $3,690,652\n",
      "\tJun 11-17 \t: $3,055,540\n",
      "\tJun 18-24 \t: $2,123,545\n",
      "\tJun 25-Jul 1 \t: $1,499,777\n",
      "\tJul 2-8 \t: $818,377\n",
      "\tJul 9-15 \t: $691,159\n",
      "\tJul 16-22 \t: $351,269\n",
      "\tJul 23-29 \t: $282,152\n",
      "\tJul 30-Aug 5 \t: $1,011,124\n",
      "\tAug 6-12 \t: $665,476\n",
      "\tAug 13-19 \t: $609,743\n",
      "\tAug 20-26 \t: $333,011\n",
      "\tAug 27-Sep 2 \t: $163,446\n",
      "\tSep 3-9 \t: $156,623\n",
      "\tSep 10-16 \t: $81,495\n",
      "\tSep 17-23 \t: $74,400\n"
     ]
    }
   ],
   "source": [
    "# Let's experiment with Terminator\n",
    "imdb_id = 'tt0133093'\n",
    "\n",
    "# Fetch the box office numbers\n",
    "base = 'https://www.boxofficemojo.com'\n",
    "url = base + '/title/' + imdb_id\n",
    "source = urllib.request.urlopen(url).read()\n",
    "soup = BeautifulSoup(source,'lxml')\n",
    "\n",
    "table = soup('th', text=re.compile(r'Release Group'))[0].parent.parent\n",
    "group = table.findAll('tr', recursive=False)[1].find('a').get('href')\n",
    "url = base + group\n",
    "\n",
    "# Get total earnings domestic and international\n",
    "source = urllib.request.urlopen(url).read()\n",
    "soup = BeautifulSoup(source,'lxml')\n",
    "earnings = soup('h2', text=re.compile(r'Rollout'))[0].parent.parent.findAll('div')\n",
    "domestic = earnings[1].find('span', {'class': 'money'}).get_text()\n",
    "domestic_url = earnings[1].find('a').get('href')\n",
    "international = earnings[2].find('span', {'class': 'money'}).get_text()\n",
    "\n",
    "# Get weekly domestic earnings\n",
    "url = base + domestic_url\n",
    "url = url[:url.rfind('/')] + '/weekly/'\n",
    "source = urllib.request.urlopen(url).read()\n",
    "soup = BeautifulSoup(source,'lxml')\n",
    "table = soup.find('div', {'class':'a-section imdb-scroll-table-inner'}).findAll('tr')\n",
    "weekly = []\n",
    "for tr in table[1:]:\n",
    "    date = tr.findAll('td')[0].get_text()\n",
    "    earning = tr.findAll('td')[2].get_text()\n",
    "    weekly.append((date, earning))\n",
    "\n",
    "# Print the values we've just got!\n",
    "print(\"Total Domestic Earnings: %s\" % domestic)\n",
    "print(\"Total International Earnings: %s\" % international)\n",
    "print(\"Weekly Domestic Earnings:\")\n",
    "for date, earning in weekly:\n",
    "    print(\"\\t%s \\t: %s\" % (date, earning))"
   ]
  },
  {
   "cell_type": "code",
   "execution_count": 49,
   "metadata": {},
   "outputs": [
    {
     "ename": "HTTPError",
     "evalue": "HTTP Error 403: Forbidden",
     "output_type": "error",
     "traceback": [
      "\u001b[0;31m---------------------------------------------------------------------------\u001b[0m",
      "\u001b[0;31mHTTPError\u001b[0m                                 Traceback (most recent call last)",
      "\u001b[0;32m<ipython-input-49-6406c0479b3d>\u001b[0m in \u001b[0;36m<module>\u001b[0;34m\u001b[0m\n\u001b[1;32m      1\u001b[0m \u001b[0murl_nums\u001b[0m \u001b[0;34m=\u001b[0m \u001b[0;34m\"https://www.the-numbers.com/person/1470401-Keanu-Reeves#tab=acting\"\u001b[0m\u001b[0;34m\u001b[0m\u001b[0;34m\u001b[0m\u001b[0m\n\u001b[0;32m----> 2\u001b[0;31m \u001b[0msource\u001b[0m \u001b[0;34m=\u001b[0m \u001b[0murllib\u001b[0m\u001b[0;34m.\u001b[0m\u001b[0mrequest\u001b[0m\u001b[0;34m.\u001b[0m\u001b[0murlopen\u001b[0m\u001b[0;34m(\u001b[0m\u001b[0murl_nums\u001b[0m\u001b[0;34m)\u001b[0m\u001b[0;34m.\u001b[0m\u001b[0mread\u001b[0m\u001b[0;34m(\u001b[0m\u001b[0;34m)\u001b[0m\u001b[0;34m\u001b[0m\u001b[0;34m\u001b[0m\u001b[0m\n\u001b[0m\u001b[1;32m      3\u001b[0m \u001b[0msoup\u001b[0m \u001b[0;34m=\u001b[0m \u001b[0mBeautifulSoup\u001b[0m\u001b[0;34m(\u001b[0m\u001b[0msource\u001b[0m\u001b[0;34m,\u001b[0m\u001b[0;34m'html'\u001b[0m\u001b[0;34m)\u001b[0m\u001b[0;34m\u001b[0m\u001b[0;34m\u001b[0m\u001b[0m\n\u001b[1;32m      4\u001b[0m \u001b[0msoup\u001b[0m\u001b[0;34m\u001b[0m\u001b[0;34m\u001b[0m\u001b[0m\n",
      "\u001b[0;32m~/anaconda3/lib/python3.6/urllib/request.py\u001b[0m in \u001b[0;36murlopen\u001b[0;34m(url, data, timeout, cafile, capath, cadefault, context)\u001b[0m\n\u001b[1;32m    221\u001b[0m     \u001b[0;32melse\u001b[0m\u001b[0;34m:\u001b[0m\u001b[0;34m\u001b[0m\u001b[0;34m\u001b[0m\u001b[0m\n\u001b[1;32m    222\u001b[0m         \u001b[0mopener\u001b[0m \u001b[0;34m=\u001b[0m \u001b[0m_opener\u001b[0m\u001b[0;34m\u001b[0m\u001b[0;34m\u001b[0m\u001b[0m\n\u001b[0;32m--> 223\u001b[0;31m     \u001b[0;32mreturn\u001b[0m \u001b[0mopener\u001b[0m\u001b[0;34m.\u001b[0m\u001b[0mopen\u001b[0m\u001b[0;34m(\u001b[0m\u001b[0murl\u001b[0m\u001b[0;34m,\u001b[0m \u001b[0mdata\u001b[0m\u001b[0;34m,\u001b[0m \u001b[0mtimeout\u001b[0m\u001b[0;34m)\u001b[0m\u001b[0;34m\u001b[0m\u001b[0;34m\u001b[0m\u001b[0m\n\u001b[0m\u001b[1;32m    224\u001b[0m \u001b[0;34m\u001b[0m\u001b[0m\n\u001b[1;32m    225\u001b[0m \u001b[0;32mdef\u001b[0m \u001b[0minstall_opener\u001b[0m\u001b[0;34m(\u001b[0m\u001b[0mopener\u001b[0m\u001b[0;34m)\u001b[0m\u001b[0;34m:\u001b[0m\u001b[0;34m\u001b[0m\u001b[0;34m\u001b[0m\u001b[0m\n",
      "\u001b[0;32m~/anaconda3/lib/python3.6/urllib/request.py\u001b[0m in \u001b[0;36mopen\u001b[0;34m(self, fullurl, data, timeout)\u001b[0m\n\u001b[1;32m    530\u001b[0m         \u001b[0;32mfor\u001b[0m \u001b[0mprocessor\u001b[0m \u001b[0;32min\u001b[0m \u001b[0mself\u001b[0m\u001b[0;34m.\u001b[0m\u001b[0mprocess_response\u001b[0m\u001b[0;34m.\u001b[0m\u001b[0mget\u001b[0m\u001b[0;34m(\u001b[0m\u001b[0mprotocol\u001b[0m\u001b[0;34m,\u001b[0m \u001b[0;34m[\u001b[0m\u001b[0;34m]\u001b[0m\u001b[0;34m)\u001b[0m\u001b[0;34m:\u001b[0m\u001b[0;34m\u001b[0m\u001b[0;34m\u001b[0m\u001b[0m\n\u001b[1;32m    531\u001b[0m             \u001b[0mmeth\u001b[0m \u001b[0;34m=\u001b[0m \u001b[0mgetattr\u001b[0m\u001b[0;34m(\u001b[0m\u001b[0mprocessor\u001b[0m\u001b[0;34m,\u001b[0m \u001b[0mmeth_name\u001b[0m\u001b[0;34m)\u001b[0m\u001b[0;34m\u001b[0m\u001b[0;34m\u001b[0m\u001b[0m\n\u001b[0;32m--> 532\u001b[0;31m             \u001b[0mresponse\u001b[0m \u001b[0;34m=\u001b[0m \u001b[0mmeth\u001b[0m\u001b[0;34m(\u001b[0m\u001b[0mreq\u001b[0m\u001b[0;34m,\u001b[0m \u001b[0mresponse\u001b[0m\u001b[0;34m)\u001b[0m\u001b[0;34m\u001b[0m\u001b[0;34m\u001b[0m\u001b[0m\n\u001b[0m\u001b[1;32m    533\u001b[0m \u001b[0;34m\u001b[0m\u001b[0m\n\u001b[1;32m    534\u001b[0m         \u001b[0;32mreturn\u001b[0m \u001b[0mresponse\u001b[0m\u001b[0;34m\u001b[0m\u001b[0;34m\u001b[0m\u001b[0m\n",
      "\u001b[0;32m~/anaconda3/lib/python3.6/urllib/request.py\u001b[0m in \u001b[0;36mhttp_response\u001b[0;34m(self, request, response)\u001b[0m\n\u001b[1;32m    640\u001b[0m         \u001b[0;32mif\u001b[0m \u001b[0;32mnot\u001b[0m \u001b[0;34m(\u001b[0m\u001b[0;36m200\u001b[0m \u001b[0;34m<=\u001b[0m \u001b[0mcode\u001b[0m \u001b[0;34m<\u001b[0m \u001b[0;36m300\u001b[0m\u001b[0;34m)\u001b[0m\u001b[0;34m:\u001b[0m\u001b[0;34m\u001b[0m\u001b[0;34m\u001b[0m\u001b[0m\n\u001b[1;32m    641\u001b[0m             response = self.parent.error(\n\u001b[0;32m--> 642\u001b[0;31m                 'http', request, response, code, msg, hdrs)\n\u001b[0m\u001b[1;32m    643\u001b[0m \u001b[0;34m\u001b[0m\u001b[0m\n\u001b[1;32m    644\u001b[0m         \u001b[0;32mreturn\u001b[0m \u001b[0mresponse\u001b[0m\u001b[0;34m\u001b[0m\u001b[0;34m\u001b[0m\u001b[0m\n",
      "\u001b[0;32m~/anaconda3/lib/python3.6/urllib/request.py\u001b[0m in \u001b[0;36merror\u001b[0;34m(self, proto, *args)\u001b[0m\n\u001b[1;32m    568\u001b[0m         \u001b[0;32mif\u001b[0m \u001b[0mhttp_err\u001b[0m\u001b[0;34m:\u001b[0m\u001b[0;34m\u001b[0m\u001b[0;34m\u001b[0m\u001b[0m\n\u001b[1;32m    569\u001b[0m             \u001b[0margs\u001b[0m \u001b[0;34m=\u001b[0m \u001b[0;34m(\u001b[0m\u001b[0mdict\u001b[0m\u001b[0;34m,\u001b[0m \u001b[0;34m'default'\u001b[0m\u001b[0;34m,\u001b[0m \u001b[0;34m'http_error_default'\u001b[0m\u001b[0;34m)\u001b[0m \u001b[0;34m+\u001b[0m \u001b[0morig_args\u001b[0m\u001b[0;34m\u001b[0m\u001b[0;34m\u001b[0m\u001b[0m\n\u001b[0;32m--> 570\u001b[0;31m             \u001b[0;32mreturn\u001b[0m \u001b[0mself\u001b[0m\u001b[0;34m.\u001b[0m\u001b[0m_call_chain\u001b[0m\u001b[0;34m(\u001b[0m\u001b[0;34m*\u001b[0m\u001b[0margs\u001b[0m\u001b[0;34m)\u001b[0m\u001b[0;34m\u001b[0m\u001b[0;34m\u001b[0m\u001b[0m\n\u001b[0m\u001b[1;32m    571\u001b[0m \u001b[0;34m\u001b[0m\u001b[0m\n\u001b[1;32m    572\u001b[0m \u001b[0;31m# XXX probably also want an abstract factory that knows when it makes\u001b[0m\u001b[0;34m\u001b[0m\u001b[0;34m\u001b[0m\u001b[0;34m\u001b[0m\u001b[0m\n",
      "\u001b[0;32m~/anaconda3/lib/python3.6/urllib/request.py\u001b[0m in \u001b[0;36m_call_chain\u001b[0;34m(self, chain, kind, meth_name, *args)\u001b[0m\n\u001b[1;32m    502\u001b[0m         \u001b[0;32mfor\u001b[0m \u001b[0mhandler\u001b[0m \u001b[0;32min\u001b[0m \u001b[0mhandlers\u001b[0m\u001b[0;34m:\u001b[0m\u001b[0;34m\u001b[0m\u001b[0;34m\u001b[0m\u001b[0m\n\u001b[1;32m    503\u001b[0m             \u001b[0mfunc\u001b[0m \u001b[0;34m=\u001b[0m \u001b[0mgetattr\u001b[0m\u001b[0;34m(\u001b[0m\u001b[0mhandler\u001b[0m\u001b[0;34m,\u001b[0m \u001b[0mmeth_name\u001b[0m\u001b[0;34m)\u001b[0m\u001b[0;34m\u001b[0m\u001b[0;34m\u001b[0m\u001b[0m\n\u001b[0;32m--> 504\u001b[0;31m             \u001b[0mresult\u001b[0m \u001b[0;34m=\u001b[0m \u001b[0mfunc\u001b[0m\u001b[0;34m(\u001b[0m\u001b[0;34m*\u001b[0m\u001b[0margs\u001b[0m\u001b[0;34m)\u001b[0m\u001b[0;34m\u001b[0m\u001b[0;34m\u001b[0m\u001b[0m\n\u001b[0m\u001b[1;32m    505\u001b[0m             \u001b[0;32mif\u001b[0m \u001b[0mresult\u001b[0m \u001b[0;32mis\u001b[0m \u001b[0;32mnot\u001b[0m \u001b[0;32mNone\u001b[0m\u001b[0;34m:\u001b[0m\u001b[0;34m\u001b[0m\u001b[0;34m\u001b[0m\u001b[0m\n\u001b[1;32m    506\u001b[0m                 \u001b[0;32mreturn\u001b[0m \u001b[0mresult\u001b[0m\u001b[0;34m\u001b[0m\u001b[0;34m\u001b[0m\u001b[0m\n",
      "\u001b[0;32m~/anaconda3/lib/python3.6/urllib/request.py\u001b[0m in \u001b[0;36mhttp_error_default\u001b[0;34m(self, req, fp, code, msg, hdrs)\u001b[0m\n\u001b[1;32m    648\u001b[0m \u001b[0;32mclass\u001b[0m \u001b[0mHTTPDefaultErrorHandler\u001b[0m\u001b[0;34m(\u001b[0m\u001b[0mBaseHandler\u001b[0m\u001b[0;34m)\u001b[0m\u001b[0;34m:\u001b[0m\u001b[0;34m\u001b[0m\u001b[0;34m\u001b[0m\u001b[0m\n\u001b[1;32m    649\u001b[0m     \u001b[0;32mdef\u001b[0m \u001b[0mhttp_error_default\u001b[0m\u001b[0;34m(\u001b[0m\u001b[0mself\u001b[0m\u001b[0;34m,\u001b[0m \u001b[0mreq\u001b[0m\u001b[0;34m,\u001b[0m \u001b[0mfp\u001b[0m\u001b[0;34m,\u001b[0m \u001b[0mcode\u001b[0m\u001b[0;34m,\u001b[0m \u001b[0mmsg\u001b[0m\u001b[0;34m,\u001b[0m \u001b[0mhdrs\u001b[0m\u001b[0;34m)\u001b[0m\u001b[0;34m:\u001b[0m\u001b[0;34m\u001b[0m\u001b[0;34m\u001b[0m\u001b[0m\n\u001b[0;32m--> 650\u001b[0;31m         \u001b[0;32mraise\u001b[0m \u001b[0mHTTPError\u001b[0m\u001b[0;34m(\u001b[0m\u001b[0mreq\u001b[0m\u001b[0;34m.\u001b[0m\u001b[0mfull_url\u001b[0m\u001b[0;34m,\u001b[0m \u001b[0mcode\u001b[0m\u001b[0;34m,\u001b[0m \u001b[0mmsg\u001b[0m\u001b[0;34m,\u001b[0m \u001b[0mhdrs\u001b[0m\u001b[0;34m,\u001b[0m \u001b[0mfp\u001b[0m\u001b[0;34m)\u001b[0m\u001b[0;34m\u001b[0m\u001b[0;34m\u001b[0m\u001b[0m\n\u001b[0m\u001b[1;32m    651\u001b[0m \u001b[0;34m\u001b[0m\u001b[0m\n\u001b[1;32m    652\u001b[0m \u001b[0;32mclass\u001b[0m \u001b[0mHTTPRedirectHandler\u001b[0m\u001b[0;34m(\u001b[0m\u001b[0mBaseHandler\u001b[0m\u001b[0;34m)\u001b[0m\u001b[0;34m:\u001b[0m\u001b[0;34m\u001b[0m\u001b[0;34m\u001b[0m\u001b[0m\n",
      "\u001b[0;31mHTTPError\u001b[0m: HTTP Error 403: Forbidden"
     ]
    }
   ],
   "source": [
    "\n",
    "url_nums = \"https://www.the-numbers.com/person/1470401-Keanu-Reeves#tab=acting\"\n",
    "source = urllib.request.urlopen(url_nums).read()\n",
    "soup = BeautifulSoup(source,'html')\n",
    "soup"
   ]
  },
  {
   "cell_type": "code",
   "execution_count": null,
   "metadata": {},
   "outputs": [],
   "source": [
    "bs4"
   ]
  },
  {
   "cell_type": "code",
   "execution_count": 31,
   "metadata": {},
   "outputs": [
    {
     "data": {
      "text/plain": [
       "'$292,037,453'"
      ]
     },
     "execution_count": 31,
     "metadata": {},
     "output_type": "execute_result"
    }
   ],
   "source": [
    "international"
   ]
  },
  {
   "cell_type": "code",
   "execution_count": 32,
   "metadata": {},
   "outputs": [
    {
     "data": {
      "text/plain": [
       "'$171,479,930'"
      ]
     },
     "execution_count": 32,
     "metadata": {},
     "output_type": "execute_result"
    }
   ],
   "source": [
    "domestic"
   ]
  },
  {
   "cell_type": "code",
   "execution_count": null,
   "metadata": {},
   "outputs": [],
   "source": []
  },
  {
   "cell_type": "markdown",
   "metadata": {},
   "source": [
    "international vs domestic for top 10 grossing movies\n",
    "    how keanus top films were recieved internationally\n",
    "\n",
    "rating vs budget\n",
    "\n",
    "budget vs grossing"
   ]
  },
  {
   "cell_type": "markdown",
   "metadata": {},
   "source": [
    "## Other resources!"
   ]
  },
  {
   "cell_type": "markdown",
   "metadata": {},
   "source": [
    "This assignment doesn't have a restriction on where you can look for data.\n",
    "Further, we don't mind how you collect the data, or what data you collect.\n",
    "\n",
    "Here are some additional resources for this example, and you can customize it for your own!\n",
    "* Arnold Schwarzenegger Kill Count: https://www.youtube.com/watch?v=OE6jpTaOYMU\n",
    "* Arnold Schwarzenegger Top Quotes: https://www.youtube.com/watch?v=pDxn0Xfqkgw\n",
    "\n",
    "You could think about the IMDB network as a graph, with different actors connected through movies.\n",
    "\n",
    "Some other useful libraries/ databases:\n",
    "* IMDBPy\n",
    "* http://www.omdbapi.com/"
   ]
  }
 ],
 "metadata": {
  "kernelspec": {
   "display_name": "Python 3",
   "language": "python",
   "name": "python3"
  },
  "language_info": {
   "codemirror_mode": {
    "name": "ipython",
    "version": 3
   },
   "file_extension": ".py",
   "mimetype": "text/x-python",
   "name": "python",
   "nbconvert_exporter": "python",
   "pygments_lexer": "ipython3",
   "version": "3.6.8"
  }
 },
 "nbformat": 4,
 "nbformat_minor": 2
}
